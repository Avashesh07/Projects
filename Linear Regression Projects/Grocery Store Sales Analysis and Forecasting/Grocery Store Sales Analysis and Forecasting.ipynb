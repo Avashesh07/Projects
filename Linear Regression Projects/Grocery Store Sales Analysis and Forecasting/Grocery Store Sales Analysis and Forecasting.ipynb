{
 "cells": [
  {
   "cell_type": "code",
   "execution_count": 73,
   "id": "bda5a52a-cf8c-46c2-a97e-144d96622fb1",
   "metadata": {},
   "outputs": [],
   "source": [
    "import pandas as pd\n",
    "import matplotlib.pyplot as plt\n",
    "import seaborn as sns\n",
    "import numpy as np\n",
    "from sklearn.model_selection import train_test_split\n",
    "from sklearn.linear_model import LinearRegression\n",
    "from sklearn import metrics"
   ]
  },
  {
   "cell_type": "markdown",
   "id": "cfe24b99-cdc0-4b28-8bec-8bd9b1c087b9",
   "metadata": {},
   "source": [
    "### Load the CSV data file into a Pandas DataFrame"
   ]
  },
  {
   "cell_type": "code",
   "execution_count": 4,
   "id": "6a4bb340-4749-4743-9e34-2f9fa444664a",
   "metadata": {},
   "outputs": [],
   "source": [
    "df = pd.read_csv('Stores.csv')"
   ]
  },
  {
   "cell_type": "code",
   "execution_count": 6,
   "id": "bfd4e937-cfd4-4842-bc1b-87d445e9a596",
   "metadata": {},
   "outputs": [
    {
     "data": {
      "text/html": [
       "<div>\n",
       "<style scoped>\n",
       "    .dataframe tbody tr th:only-of-type {\n",
       "        vertical-align: middle;\n",
       "    }\n",
       "\n",
       "    .dataframe tbody tr th {\n",
       "        vertical-align: top;\n",
       "    }\n",
       "\n",
       "    .dataframe thead th {\n",
       "        text-align: right;\n",
       "    }\n",
       "</style>\n",
       "<table border=\"1\" class=\"dataframe\">\n",
       "  <thead>\n",
       "    <tr style=\"text-align: right;\">\n",
       "      <th></th>\n",
       "      <th>Store ID</th>\n",
       "      <th>Store_Area</th>\n",
       "      <th>Items_Available</th>\n",
       "      <th>Daily_Customer_Count</th>\n",
       "      <th>Store_Sales</th>\n",
       "    </tr>\n",
       "  </thead>\n",
       "  <tbody>\n",
       "    <tr>\n",
       "      <th>0</th>\n",
       "      <td>1</td>\n",
       "      <td>1659</td>\n",
       "      <td>1961</td>\n",
       "      <td>530</td>\n",
       "      <td>66490</td>\n",
       "    </tr>\n",
       "    <tr>\n",
       "      <th>1</th>\n",
       "      <td>2</td>\n",
       "      <td>1461</td>\n",
       "      <td>1752</td>\n",
       "      <td>210</td>\n",
       "      <td>39820</td>\n",
       "    </tr>\n",
       "    <tr>\n",
       "      <th>2</th>\n",
       "      <td>3</td>\n",
       "      <td>1340</td>\n",
       "      <td>1609</td>\n",
       "      <td>720</td>\n",
       "      <td>54010</td>\n",
       "    </tr>\n",
       "    <tr>\n",
       "      <th>3</th>\n",
       "      <td>4</td>\n",
       "      <td>1451</td>\n",
       "      <td>1748</td>\n",
       "      <td>620</td>\n",
       "      <td>53730</td>\n",
       "    </tr>\n",
       "    <tr>\n",
       "      <th>4</th>\n",
       "      <td>5</td>\n",
       "      <td>1770</td>\n",
       "      <td>2111</td>\n",
       "      <td>450</td>\n",
       "      <td>46620</td>\n",
       "    </tr>\n",
       "    <tr>\n",
       "      <th>5</th>\n",
       "      <td>6</td>\n",
       "      <td>1442</td>\n",
       "      <td>1733</td>\n",
       "      <td>760</td>\n",
       "      <td>45260</td>\n",
       "    </tr>\n",
       "    <tr>\n",
       "      <th>6</th>\n",
       "      <td>7</td>\n",
       "      <td>1542</td>\n",
       "      <td>1858</td>\n",
       "      <td>1030</td>\n",
       "      <td>72240</td>\n",
       "    </tr>\n",
       "    <tr>\n",
       "      <th>7</th>\n",
       "      <td>8</td>\n",
       "      <td>1261</td>\n",
       "      <td>1507</td>\n",
       "      <td>1020</td>\n",
       "      <td>37720</td>\n",
       "    </tr>\n",
       "    <tr>\n",
       "      <th>8</th>\n",
       "      <td>9</td>\n",
       "      <td>1090</td>\n",
       "      <td>1321</td>\n",
       "      <td>680</td>\n",
       "      <td>46310</td>\n",
       "    </tr>\n",
       "    <tr>\n",
       "      <th>9</th>\n",
       "      <td>10</td>\n",
       "      <td>1030</td>\n",
       "      <td>1235</td>\n",
       "      <td>1130</td>\n",
       "      <td>44150</td>\n",
       "    </tr>\n",
       "  </tbody>\n",
       "</table>\n",
       "</div>"
      ],
      "text/plain": [
       "   Store ID   Store_Area  Items_Available  Daily_Customer_Count  Store_Sales\n",
       "0          1        1659             1961                   530        66490\n",
       "1          2        1461             1752                   210        39820\n",
       "2          3        1340             1609                   720        54010\n",
       "3          4        1451             1748                   620        53730\n",
       "4          5        1770             2111                   450        46620\n",
       "5          6        1442             1733                   760        45260\n",
       "6          7        1542             1858                  1030        72240\n",
       "7          8        1261             1507                  1020        37720\n",
       "8          9        1090             1321                   680        46310\n",
       "9         10        1030             1235                  1130        44150"
      ]
     },
     "execution_count": 6,
     "metadata": {},
     "output_type": "execute_result"
    }
   ],
   "source": [
    "df.head(10)"
   ]
  },
  {
   "cell_type": "markdown",
   "id": "1ca42bb9-afc3-4329-8982-34c50a166735",
   "metadata": {},
   "source": [
    "### Report Stores that have more than $100k in Sales"
   ]
  },
  {
   "cell_type": "code",
   "execution_count": 8,
   "id": "9b4b50fb-4081-4c3c-b85c-0b1491195122",
   "metadata": {},
   "outputs": [
    {
     "data": {
      "text/html": [
       "<div>\n",
       "<style scoped>\n",
       "    .dataframe tbody tr th:only-of-type {\n",
       "        vertical-align: middle;\n",
       "    }\n",
       "\n",
       "    .dataframe tbody tr th {\n",
       "        vertical-align: top;\n",
       "    }\n",
       "\n",
       "    .dataframe thead th {\n",
       "        text-align: right;\n",
       "    }\n",
       "</style>\n",
       "<table border=\"1\" class=\"dataframe\">\n",
       "  <thead>\n",
       "    <tr style=\"text-align: right;\">\n",
       "      <th></th>\n",
       "      <th>Store ID</th>\n",
       "      <th>Store_Area</th>\n",
       "      <th>Items_Available</th>\n",
       "      <th>Daily_Customer_Count</th>\n",
       "      <th>Store_Sales</th>\n",
       "    </tr>\n",
       "  </thead>\n",
       "  <tbody>\n",
       "    <tr>\n",
       "      <th>649</th>\n",
       "      <td>650</td>\n",
       "      <td>1989</td>\n",
       "      <td>2414</td>\n",
       "      <td>860</td>\n",
       "      <td>116320</td>\n",
       "    </tr>\n",
       "    <tr>\n",
       "      <th>868</th>\n",
       "      <td>869</td>\n",
       "      <td>1775</td>\n",
       "      <td>2104</td>\n",
       "      <td>980</td>\n",
       "      <td>105150</td>\n",
       "    </tr>\n",
       "    <tr>\n",
       "      <th>432</th>\n",
       "      <td>433</td>\n",
       "      <td>1365</td>\n",
       "      <td>1638</td>\n",
       "      <td>680</td>\n",
       "      <td>102920</td>\n",
       "    </tr>\n",
       "    <tr>\n",
       "      <th>408</th>\n",
       "      <td>409</td>\n",
       "      <td>1303</td>\n",
       "      <td>1587</td>\n",
       "      <td>1310</td>\n",
       "      <td>102310</td>\n",
       "    </tr>\n",
       "    <tr>\n",
       "      <th>758</th>\n",
       "      <td>759</td>\n",
       "      <td>1486</td>\n",
       "      <td>1758</td>\n",
       "      <td>820</td>\n",
       "      <td>101820</td>\n",
       "    </tr>\n",
       "  </tbody>\n",
       "</table>\n",
       "</div>"
      ],
      "text/plain": [
       "     Store ID   Store_Area  Items_Available  Daily_Customer_Count  Store_Sales\n",
       "649        650        1989             2414                   860       116320\n",
       "868        869        1775             2104                   980       105150\n",
       "432        433        1365             1638                   680       102920\n",
       "408        409        1303             1587                  1310       102310\n",
       "758        759        1486             1758                   820       101820"
      ]
     },
     "execution_count": 8,
     "metadata": {},
     "output_type": "execute_result"
    }
   ],
   "source": [
    "df.sort_values('Store_Sales',ascending=False).iloc[:5]"
   ]
  },
  {
   "cell_type": "code",
   "execution_count": 12,
   "id": "99174824-a574-4781-9240-da181d5e890d",
   "metadata": {},
   "outputs": [
    {
     "data": {
      "text/html": [
       "<div>\n",
       "<style scoped>\n",
       "    .dataframe tbody tr th:only-of-type {\n",
       "        vertical-align: middle;\n",
       "    }\n",
       "\n",
       "    .dataframe tbody tr th {\n",
       "        vertical-align: top;\n",
       "    }\n",
       "\n",
       "    .dataframe thead th {\n",
       "        text-align: right;\n",
       "    }\n",
       "</style>\n",
       "<table border=\"1\" class=\"dataframe\">\n",
       "  <thead>\n",
       "    <tr style=\"text-align: right;\">\n",
       "      <th></th>\n",
       "      <th>Store ID</th>\n",
       "      <th>Store_Area</th>\n",
       "      <th>Items_Available</th>\n",
       "      <th>Daily_Customer_Count</th>\n",
       "      <th>Store_Sales</th>\n",
       "    </tr>\n",
       "  </thead>\n",
       "  <tbody>\n",
       "    <tr>\n",
       "      <th>408</th>\n",
       "      <td>409</td>\n",
       "      <td>1303</td>\n",
       "      <td>1587</td>\n",
       "      <td>1310</td>\n",
       "      <td>102310</td>\n",
       "    </tr>\n",
       "    <tr>\n",
       "      <th>432</th>\n",
       "      <td>433</td>\n",
       "      <td>1365</td>\n",
       "      <td>1638</td>\n",
       "      <td>680</td>\n",
       "      <td>102920</td>\n",
       "    </tr>\n",
       "    <tr>\n",
       "      <th>557</th>\n",
       "      <td>558</td>\n",
       "      <td>1137</td>\n",
       "      <td>1374</td>\n",
       "      <td>700</td>\n",
       "      <td>101780</td>\n",
       "    </tr>\n",
       "    <tr>\n",
       "      <th>649</th>\n",
       "      <td>650</td>\n",
       "      <td>1989</td>\n",
       "      <td>2414</td>\n",
       "      <td>860</td>\n",
       "      <td>116320</td>\n",
       "    </tr>\n",
       "    <tr>\n",
       "      <th>758</th>\n",
       "      <td>759</td>\n",
       "      <td>1486</td>\n",
       "      <td>1758</td>\n",
       "      <td>820</td>\n",
       "      <td>101820</td>\n",
       "    </tr>\n",
       "    <tr>\n",
       "      <th>866</th>\n",
       "      <td>867</td>\n",
       "      <td>1565</td>\n",
       "      <td>1854</td>\n",
       "      <td>900</td>\n",
       "      <td>100900</td>\n",
       "    </tr>\n",
       "    <tr>\n",
       "      <th>868</th>\n",
       "      <td>869</td>\n",
       "      <td>1775</td>\n",
       "      <td>2104</td>\n",
       "      <td>980</td>\n",
       "      <td>105150</td>\n",
       "    </tr>\n",
       "  </tbody>\n",
       "</table>\n",
       "</div>"
      ],
      "text/plain": [
       "     Store ID   Store_Area  Items_Available  Daily_Customer_Count  Store_Sales\n",
       "408        409        1303             1587                  1310       102310\n",
       "432        433        1365             1638                   680       102920\n",
       "557        558        1137             1374                   700       101780\n",
       "649        650        1989             2414                   860       116320\n",
       "758        759        1486             1758                   820       101820\n",
       "866        867        1565             1854                   900       100900\n",
       "868        869        1775             2104                   980       105150"
      ]
     },
     "execution_count": 12,
     "metadata": {},
     "output_type": "execute_result"
    }
   ],
   "source": [
    "df[df['Store_Sales'] > 100000]"
   ]
  },
  {
   "cell_type": "markdown",
   "id": "217dcc13-7de6-4187-a49f-8b6512b8a865",
   "metadata": {
    "tags": []
   },
   "source": [
    "### Create a new feature column of ratio between the Sales and Area of a store"
   ]
  },
  {
   "cell_type": "code",
   "execution_count": 20,
   "id": "3916b06d-daef-4c1a-b871-bc4ce6697d08",
   "metadata": {},
   "outputs": [],
   "source": [
    "df['Sales_Area'] = np.round(df['Store_Sales']/df['Store_Area'],2)"
   ]
  },
  {
   "cell_type": "markdown",
   "id": "160b3f50-299b-46df-b4b0-55bb92eb4b7b",
   "metadata": {},
   "source": [
    "### Create a Visual Report of Sales using a Histogram"
   ]
  },
  {
   "cell_type": "code",
   "execution_count": 36,
   "id": "7d4e9efd-91b2-4cb2-87e7-e7e8c58f64af",
   "metadata": {},
   "outputs": [
    {
     "data": {
      "text/plain": [
       "<function matplotlib.pyplot.show(close=None, block=None)>"
      ]
     },
     "execution_count": 36,
     "metadata": {},
     "output_type": "execute_result"
    },
    {
     "data": {
      "image/png": "[encoded data removed]",
      "text/plain": [
       "<Figure size 640x480 with 1 Axes>"
      ]
     },
     "metadata": {},
     "output_type": "display_data"
    }
   ],
   "source": [
    "plt.hist(df['Store_Sales'],bins=20,edgecolor='black')\n",
    "plt.title('Sales')\n",
    "plt.xlabel('Sales in USD')\n",
    "plt.ylabel('Frequency')\n",
    "plt.show"
   ]
  },
  {
   "cell_type": "markdown",
   "id": "e3d16f9d-dec0-433f-af64-82f9fb87a635",
   "metadata": {},
   "source": [
    "### Create Visual Report of Feature Correlation using a Heatmap"
   ]
  },
  {
   "cell_type": "code",
   "execution_count": 37,
   "id": "fe6159c0-3c01-453a-a7ec-73806a220f39",
   "metadata": {},
   "outputs": [],
   "source": [
    "corr_m = df.corr()"
   ]
  },
  {
   "cell_type": "code",
   "execution_count": 47,
   "id": "e8d56c86-05c0-4a59-8bd4-bead1e9b307a",
   "metadata": {},
   "outputs": [
    {
     "data": {
      "text/plain": [
       "<AxesSubplot:>"
      ]
     },
     "execution_count": 47,
     "metadata": {},
     "output_type": "execute_result"
    },
    {
     "data": {
      "image/png": "[encoded data removed]",
      "text/plain": [
       "<Figure size 640x480 with 2 Axes>"
      ]
     },
     "metadata": {},
     "output_type": "display_data"
    }
   ],
   "source": [
    "sns.heatmap(corr_m,annot=True,cmap='viridis')"
   ]
  },
  {
   "cell_type": "markdown",
   "id": "e6587295-10b3-4a44-a17a-372f2cd7f791",
   "metadata": {},
   "source": [
    "### Split Data into a Training Set and a Test Set"
   ]
  },
  {
   "cell_type": "code",
   "execution_count": 55,
   "id": "fd717705-4d1f-40cd-b346-17f78c5d193f",
   "metadata": {},
   "outputs": [],
   "source": [
    "X = df.drop(['Store ID ','Store_Sales'],axis=1)"
   ]
  },
  {
   "cell_type": "code",
   "execution_count": 56,
   "id": "c0635e3b-2e99-47ca-9a5e-6d8667c4c8bd",
   "metadata": {},
   "outputs": [],
   "source": [
    "y = df['Store_Sales']"
   ]
  },
  {
   "cell_type": "code",
   "execution_count": 67,
   "id": "1a8b0e1e-cd6e-495c-9cd5-cafdce78f331",
   "metadata": {},
   "outputs": [],
   "source": [
    "X_train, X_test, y_train, y_test = train_test_split(X, y, test_size=0.33, random_state=42)"
   ]
  },
  {
   "cell_type": "markdown",
   "id": "2aabc3de-daef-4771-9880-9b9b833c350d",
   "metadata": {},
   "source": [
    "### Create a Linear Regression Model to Forecast Sales Column"
   ]
  },
  {
   "cell_type": "code",
   "execution_count": 61,
   "id": "5a1f7b59-3f0e-4f67-9c39-3ceca86934ea",
   "metadata": {},
   "outputs": [],
   "source": [
    "model = LinearRegression()"
   ]
  },
  {
   "cell_type": "code",
   "execution_count": 63,
   "id": "d8ae29e4-f81e-478f-ae9e-8ab5b9a64b94",
   "metadata": {},
   "outputs": [
    {
     "data": {
      "text/html": [
       "<style>#sk-container-id-2 {color: black;background-color: white;}#sk-container-id-2 pre{padding: 0;}#sk-container-id-2 div.sk-toggleable {background-color: white;}#sk-container-id-2 label.sk-toggleable__label {cursor: pointer;display: block;width: 100%;margin-bottom: 0;padding: 0.3em;box-sizing: border-box;text-align: center;}#sk-container-id-2 label.sk-toggleable__label-arrow:before {content: \"▸\";float: left;margin-right: 0.25em;color: #696969;}#sk-container-id-2 label.sk-toggleable__label-arrow:hover:before {color: black;}#sk-container-id-2 div.sk-estimator:hover label.sk-toggleable__label-arrow:before {color: black;}#sk-container-id-2 div.sk-toggleable__content {max-height: 0;max-width: 0;overflow: hidden;text-align: left;background-color: #f0f8ff;}#sk-container-id-2 div.sk-toggleable__content pre {margin: 0.2em;color: black;border-radius: 0.25em;background-color: #f0f8ff;}#sk-container-id-2 input.sk-toggleable__control:checked~div.sk-toggleable__content {max-height: 200px;max-width: 100%;overflow: auto;}#sk-container-id-2 input.sk-toggleable__control:checked~label.sk-toggleable__label-arrow:before {content: \"▾\";}#sk-container-id-2 div.sk-estimator input.sk-toggleable__control:checked~label.sk-toggleable__label {background-color: #d4ebff;}#sk-container-id-2 div.sk-label input.sk-toggleable__control:checked~label.sk-toggleable__label {background-color: #d4ebff;}#sk-container-id-2 input.sk-hidden--visually {border: 0;clip: rect(1px 1px 1px 1px);clip: rect(1px, 1px, 1px, 1px);height: 1px;margin: -1px;overflow: hidden;padding: 0;position: absolute;width: 1px;}#sk-container-id-2 div.sk-estimator {font-family: monospace;background-color: #f0f8ff;border: 1px dotted black;border-radius: 0.25em;box-sizing: border-box;margin-bottom: 0.5em;}#sk-container-id-2 div.sk-estimator:hover {background-color: #d4ebff;}#sk-container-id-2 div.sk-parallel-item::after {content: \"\";width: 100%;border-bottom: 1px solid gray;flex-grow: 1;}#sk-container-id-2 div.sk-label:hover label.sk-toggleable__label {background-color: #d4ebff;}#sk-container-id-2 div.sk-serial::before {content: \"\";position: absolute;border-left: 1px solid gray;box-sizing: border-box;top: 0;bottom: 0;left: 50%;z-index: 0;}#sk-container-id-2 div.sk-serial {display: flex;flex-direction: column;align-items: center;background-color: white;padding-right: 0.2em;padding-left: 0.2em;position: relative;}#sk-container-id-2 div.sk-item {position: relative;z-index: 1;}#sk-container-id-2 div.sk-parallel {display: flex;align-items: stretch;justify-content: center;background-color: white;position: relative;}#sk-container-id-2 div.sk-item::before, #sk-container-id-2 div.sk-parallel-item::before {content: \"\";position: absolute;border-left: 1px solid gray;box-sizing: border-box;top: 0;bottom: 0;left: 50%;z-index: -1;}#sk-container-id-2 div.sk-parallel-item {display: flex;flex-direction: column;z-index: 1;position: relative;background-color: white;}#sk-container-id-2 div.sk-parallel-item:first-child::after {align-self: flex-end;width: 50%;}#sk-container-id-2 div.sk-parallel-item:last-child::after {align-self: flex-start;width: 50%;}#sk-container-id-2 div.sk-parallel-item:only-child::after {width: 0;}#sk-container-id-2 div.sk-dashed-wrapped {border: 1px dashed gray;margin: 0 0.4em 0.5em 0.4em;box-sizing: border-box;padding-bottom: 0.4em;background-color: white;}#sk-container-id-2 div.sk-label label {font-family: monospace;font-weight: bold;display: inline-block;line-height: 1.2em;}#sk-container-id-2 div.sk-label-container {text-align: center;}#sk-container-id-2 div.sk-container {/* jupyter's `normalize.less` sets `[hidden] { display: none; }` but bootstrap.min.css set `[hidden] { display: none !important; }` so we also need the `!important` here to be able to override the default hidden behavior on the sphinx rendered scikit-learn.org. See: https://github.com/scikit-learn/scikit-learn/issues/21755 */display: inline-block !important;position: relative;}#sk-container-id-2 div.sk-text-repr-fallback {display: none;}</style><div id=\"sk-container-id-2\" class=\"sk-top-container\"><div class=\"sk-text-repr-fallback\"><pre>LinearRegression()</pre><b>In a Jupyter environment, please rerun this cell to show the HTML representation or trust the notebook. <br />On GitHub, the HTML representation is unable to render, please try loading this page with nbviewer.org.</b></div><div class=\"sk-container\" hidden><div class=\"sk-item\"><div class=\"sk-estimator sk-toggleable\"><input class=\"sk-toggleable__control sk-hidden--visually\" id=\"sk-estimator-id-2\" type=\"checkbox\" checked><label for=\"sk-estimator-id-2\" class=\"sk-toggleable__label sk-toggleable__label-arrow\">LinearRegression</label><div class=\"sk-toggleable__content\"><pre>LinearRegression()</pre></div></div></div></div></div>"
      ],
      "text/plain": [
       "LinearRegression()"
      ]
     },
     "execution_count": 63,
     "metadata": {},
     "output_type": "execute_result"
    }
   ],
   "source": [
    "model.fit(X_train,y_train)"
   ]
  },
  {
   "cell_type": "code",
   "execution_count": 66,
   "id": "97ba5f92-ae56-4fe7-aa5c-74e26c4d0109",
   "metadata": {},
   "outputs": [
    {
     "data": {
      "text/html": [
       "<div>\n",
       "<style scoped>\n",
       "    .dataframe tbody tr th:only-of-type {\n",
       "        vertical-align: middle;\n",
       "    }\n",
       "\n",
       "    .dataframe tbody tr th {\n",
       "        vertical-align: top;\n",
       "    }\n",
       "\n",
       "    .dataframe thead th {\n",
       "        text-align: right;\n",
       "    }\n",
       "</style>\n",
       "<table border=\"1\" class=\"dataframe\">\n",
       "  <thead>\n",
       "    <tr style=\"text-align: right;\">\n",
       "      <th></th>\n",
       "      <th>Coeff</th>\n",
       "    </tr>\n",
       "  </thead>\n",
       "  <tbody>\n",
       "    <tr>\n",
       "      <th>Store_Area</th>\n",
       "      <td>44.033066</td>\n",
       "    </tr>\n",
       "    <tr>\n",
       "      <th>Items_Available</th>\n",
       "      <td>-3.276701</td>\n",
       "    </tr>\n",
       "    <tr>\n",
       "      <th>Daily_Customer_Count</th>\n",
       "      <td>-0.497550</td>\n",
       "    </tr>\n",
       "    <tr>\n",
       "      <th>ratio</th>\n",
       "      <td>678.326459</td>\n",
       "    </tr>\n",
       "    <tr>\n",
       "      <th>Sales_Area</th>\n",
       "      <td>678.326459</td>\n",
       "    </tr>\n",
       "  </tbody>\n",
       "</table>\n",
       "</div>"
      ],
      "text/plain": [
       "                           Coeff\n",
       "Store_Area             44.033066\n",
       "Items_Available        -3.276701\n",
       "Daily_Customer_Count   -0.497550\n",
       "ratio                 678.326459\n",
       "Sales_Area            678.326459"
      ]
     },
     "execution_count": 66,
     "metadata": {},
     "output_type": "execute_result"
    }
   ],
   "source": [
    "pd.DataFrame(model.coef_, X.columns, columns = ['Coeff'])"
   ]
  },
  {
   "cell_type": "markdown",
   "id": "2d4aca8f-593c-4231-b423-ad9cd8cccfac",
   "metadata": {},
   "source": [
    "### Evaluate Forecast Results using Regression Metrics"
   ]
  },
  {
   "cell_type": "code",
   "execution_count": 69,
   "id": "dea3ff36-112b-4749-99b5-66e00d176d32",
   "metadata": {},
   "outputs": [],
   "source": [
    "predictions = model.predict(X_test)"
   ]
  },
  {
   "cell_type": "code",
   "execution_count": 72,
   "id": "5fa16c81-1ecb-47ba-a0b2-4b1e30292fb6",
   "metadata": {},
   "outputs": [
    {
     "data": {
      "image/png": "[encoded data removed]",
      "text/plain": [
       "<Figure size 640x480 with 1 Axes>"
      ]
     },
     "metadata": {},
     "output_type": "display_data"
    }
   ],
   "source": [
    "plt.scatter(y_test, predictions)\n",
    "plt.show()"
   ]
  },
  {
   "cell_type": "code",
   "execution_count": 74,
   "id": "0492cdeb-8434-4739-a341-67d9d6393ab6",
   "metadata": {},
   "outputs": [],
   "source": [
    "mae = metrics.mean_absolute_error(y_test, predictions)"
   ]
  },
  {
   "cell_type": "code",
   "execution_count": 77,
   "id": "11ead695-3a8f-4cc6-a36f-d9778a65ca32",
   "metadata": {},
   "outputs": [],
   "source": [
    "rmse = np.sqrt(metrics.mean_squared_error(y_test, predictions))"
   ]
  },
  {
   "cell_type": "code",
   "execution_count": 78,
   "id": "308a1021-9b4d-4e53-86f6-8ddc052bb51c",
   "metadata": {},
   "outputs": [
    {
     "data": {
      "text/plain": [
       "2490.3258913059517"
      ]
     },
     "execution_count": 78,
     "metadata": {},
     "output_type": "execute_result"
    }
   ],
   "source": [
    "mae"
   ]
  },
  {
   "cell_type": "code",
   "execution_count": 79,
   "id": "2ff94cff-4895-4948-9922-6a78f9335bca",
   "metadata": {},
   "outputs": [
    {
     "data": {
      "text/plain": [
       "3396.206618118929"
      ]
     },
     "execution_count": 79,
     "metadata": {},
     "output_type": "execute_result"
    }
   ],
   "source": [
    "rmse"
   ]
  },
  {
   "cell_type": "code",
   "execution_count": 85,
   "id": "f5b35cd3-397a-46e9-b6bf-b1baedf349b1",
   "metadata": {},
   "outputs": [
    {
     "data": {
      "text/plain": [
       "count       896.000000\n",
       "mean      59351.305804\n",
       "std       17190.741895\n",
       "min       14920.000000\n",
       "25%       46530.000000\n",
       "50%       58605.000000\n",
       "75%       71872.500000\n",
       "max      116320.000000\n",
       "Name: Store_Sales, dtype: float64"
      ]
     },
     "execution_count": 85,
     "metadata": {},
     "output_type": "execute_result"
    }
   ],
   "source": [
    "df['Store_Sales'].describe()"
   ]
  },
  {
   "cell_type": "markdown",
   "id": "899900b8-0c21-4953-9328-09ddbcdc7605",
   "metadata": {},
   "source": [
    "The RMSE should be compared relative to the mean of the sales to understand the magnitude. If the goal is to understand which factors are most predictive of sales, a slightly higher RMSE might be acceptable. If the model is being used to make financial decisions, a lower RMSE might be necessary."
   ]
  },
  {
   "cell_type": "code",
   "execution_count": null,
   "id": "51c46388-2a4f-4e9d-a0b4-51135eae128f",
   "metadata": {},
   "outputs": [],
   "source": []
  }
 ],
 "metadata": {
  "kernelspec": {
   "display_name": "Python 3 (ipykernel)",
   "language": "python",
   "name": "python3"
  },
  "language_info": {
   "codemirror_mode": {
    "name": "ipython",
    "version": 3
   },
   "file_extension": ".py",
   "mimetype": "text/x-python",
   "name": "python",
   "nbconvert_exporter": "python",
   "pygments_lexer": "ipython3",
   "version": "3.8.10"
  }
 },
 "nbformat": 4,
 "nbformat_minor": 5
}
