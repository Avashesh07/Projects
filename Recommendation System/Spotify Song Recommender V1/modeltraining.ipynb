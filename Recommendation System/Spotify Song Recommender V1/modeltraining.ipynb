{
 "cells": [
  {
   "cell_type": "code",
   "execution_count": 87,
   "metadata": {},
   "outputs": [],
   "source": [
    "import pandas as pd\n",
    "import re\n",
    "import nltk\n",
    "from nltk.tokenize import word_tokenize\n",
    "from nltk.stem import PorterStemmer\n",
    "from nltk.corpus import stopwords\n",
    "stop_words = set(stopwords.words('english'))\n",
    "from sklearn.metrics.pairwise import cosine_similarity\n",
    "from sklearn.feature_extraction.text import TfidfVectorizer\n",
    "from sklearn.model_selection import train_test_split\n",
    "import pickle"
   ]
  },
  {
   "cell_type": "code",
   "execution_count": 48,
   "metadata": {},
   "outputs": [],
   "source": [
    "df = pd.read_csv('spotify_millsongdata.csv')"
   ]
  },
  {
   "cell_type": "code",
   "execution_count": 49,
   "metadata": {},
   "outputs": [
    {
     "data": {
      "text/html": [
       "<div>\n",
       "<style scoped>\n",
       "    .dataframe tbody tr th:only-of-type {\n",
       "        vertical-align: middle;\n",
       "    }\n",
       "\n",
       "    .dataframe tbody tr th {\n",
       "        vertical-align: top;\n",
       "    }\n",
       "\n",
       "    .dataframe thead th {\n",
       "        text-align: right;\n",
       "    }\n",
       "</style>\n",
       "<table border=\"1\" class=\"dataframe\">\n",
       "  <thead>\n",
       "    <tr style=\"text-align: right;\">\n",
       "      <th></th>\n",
       "      <th>artist</th>\n",
       "      <th>song</th>\n",
       "      <th>link</th>\n",
       "      <th>text</th>\n",
       "    </tr>\n",
       "  </thead>\n",
       "  <tbody>\n",
       "    <tr>\n",
       "      <th>0</th>\n",
       "      <td>ABBA</td>\n",
       "      <td>Ahe's My Kind Of Girl</td>\n",
       "      <td>/a/abba/ahes+my+kind+of+girl_20598417.html</td>\n",
       "      <td>Look at her face, it's a wonderful face  \\r\\nA...</td>\n",
       "    </tr>\n",
       "    <tr>\n",
       "      <th>1</th>\n",
       "      <td>ABBA</td>\n",
       "      <td>Andante, Andante</td>\n",
       "      <td>/a/abba/andante+andante_20002708.html</td>\n",
       "      <td>Take it easy with me, please  \\r\\nTouch me gen...</td>\n",
       "    </tr>\n",
       "    <tr>\n",
       "      <th>2</th>\n",
       "      <td>ABBA</td>\n",
       "      <td>As Good As New</td>\n",
       "      <td>/a/abba/as+good+as+new_20003033.html</td>\n",
       "      <td>I'll never know why I had to go  \\r\\nWhy I had...</td>\n",
       "    </tr>\n",
       "    <tr>\n",
       "      <th>3</th>\n",
       "      <td>ABBA</td>\n",
       "      <td>Bang</td>\n",
       "      <td>/a/abba/bang_20598415.html</td>\n",
       "      <td>Making somebody happy is a question of give an...</td>\n",
       "    </tr>\n",
       "    <tr>\n",
       "      <th>4</th>\n",
       "      <td>ABBA</td>\n",
       "      <td>Bang-A-Boomerang</td>\n",
       "      <td>/a/abba/bang+a+boomerang_20002668.html</td>\n",
       "      <td>Making somebody happy is a question of give an...</td>\n",
       "    </tr>\n",
       "  </tbody>\n",
       "</table>\n",
       "</div>"
      ],
      "text/plain": [
       "  artist                   song                                        link  \\\n",
       "0   ABBA  Ahe's My Kind Of Girl  /a/abba/ahes+my+kind+of+girl_20598417.html   \n",
       "1   ABBA       Andante, Andante       /a/abba/andante+andante_20002708.html   \n",
       "2   ABBA         As Good As New        /a/abba/as+good+as+new_20003033.html   \n",
       "3   ABBA                   Bang                  /a/abba/bang_20598415.html   \n",
       "4   ABBA       Bang-A-Boomerang      /a/abba/bang+a+boomerang_20002668.html   \n",
       "\n",
       "                                                text  \n",
       "0  Look at her face, it's a wonderful face  \\r\\nA...  \n",
       "1  Take it easy with me, please  \\r\\nTouch me gen...  \n",
       "2  I'll never know why I had to go  \\r\\nWhy I had...  \n",
       "3  Making somebody happy is a question of give an...  \n",
       "4  Making somebody happy is a question of give an...  "
      ]
     },
     "execution_count": 49,
     "metadata": {},
     "output_type": "execute_result"
    }
   ],
   "source": [
    "df.head()"
   ]
  },
  {
   "cell_type": "code",
   "execution_count": 50,
   "metadata": {},
   "outputs": [
    {
     "data": {
      "text/html": [
       "<div>\n",
       "<style scoped>\n",
       "    .dataframe tbody tr th:only-of-type {\n",
       "        vertical-align: middle;\n",
       "    }\n",
       "\n",
       "    .dataframe tbody tr th {\n",
       "        vertical-align: top;\n",
       "    }\n",
       "\n",
       "    .dataframe thead th {\n",
       "        text-align: right;\n",
       "    }\n",
       "</style>\n",
       "<table border=\"1\" class=\"dataframe\">\n",
       "  <thead>\n",
       "    <tr style=\"text-align: right;\">\n",
       "      <th></th>\n",
       "      <th>artist</th>\n",
       "      <th>song</th>\n",
       "      <th>link</th>\n",
       "      <th>text</th>\n",
       "    </tr>\n",
       "  </thead>\n",
       "  <tbody>\n",
       "    <tr>\n",
       "      <th>57645</th>\n",
       "      <td>Ziggy Marley</td>\n",
       "      <td>Good Old Days</td>\n",
       "      <td>/z/ziggy+marley/good+old+days_10198588.html</td>\n",
       "      <td>Irie days come on play  \\r\\nLet the angels fly...</td>\n",
       "    </tr>\n",
       "    <tr>\n",
       "      <th>57646</th>\n",
       "      <td>Ziggy Marley</td>\n",
       "      <td>Hand To Mouth</td>\n",
       "      <td>/z/ziggy+marley/hand+to+mouth_20531167.html</td>\n",
       "      <td>Power to the workers  \\r\\nMore power  \\r\\nPowe...</td>\n",
       "    </tr>\n",
       "    <tr>\n",
       "      <th>57647</th>\n",
       "      <td>Zwan</td>\n",
       "      <td>Come With Me</td>\n",
       "      <td>/z/zwan/come+with+me_20148981.html</td>\n",
       "      <td>all you need  \\r\\nis something i'll believe  \\...</td>\n",
       "    </tr>\n",
       "    <tr>\n",
       "      <th>57648</th>\n",
       "      <td>Zwan</td>\n",
       "      <td>Desire</td>\n",
       "      <td>/z/zwan/desire_20148986.html</td>\n",
       "      <td>northern star  \\r\\nam i frightened  \\r\\nwhere ...</td>\n",
       "    </tr>\n",
       "    <tr>\n",
       "      <th>57649</th>\n",
       "      <td>Zwan</td>\n",
       "      <td>Heartsong</td>\n",
       "      <td>/z/zwan/heartsong_20148991.html</td>\n",
       "      <td>come in  \\r\\nmake yourself at home  \\r\\ni'm a ...</td>\n",
       "    </tr>\n",
       "  </tbody>\n",
       "</table>\n",
       "</div>"
      ],
      "text/plain": [
       "             artist           song  \\\n",
       "57645  Ziggy Marley  Good Old Days   \n",
       "57646  Ziggy Marley  Hand To Mouth   \n",
       "57647          Zwan   Come With Me   \n",
       "57648          Zwan         Desire   \n",
       "57649          Zwan      Heartsong   \n",
       "\n",
       "                                              link  \\\n",
       "57645  /z/ziggy+marley/good+old+days_10198588.html   \n",
       "57646  /z/ziggy+marley/hand+to+mouth_20531167.html   \n",
       "57647           /z/zwan/come+with+me_20148981.html   \n",
       "57648                 /z/zwan/desire_20148986.html   \n",
       "57649              /z/zwan/heartsong_20148991.html   \n",
       "\n",
       "                                                    text  \n",
       "57645  Irie days come on play  \\r\\nLet the angels fly...  \n",
       "57646  Power to the workers  \\r\\nMore power  \\r\\nPowe...  \n",
       "57647  all you need  \\r\\nis something i'll believe  \\...  \n",
       "57648  northern star  \\r\\nam i frightened  \\r\\nwhere ...  \n",
       "57649  come in  \\r\\nmake yourself at home  \\r\\ni'm a ...  "
      ]
     },
     "execution_count": 50,
     "metadata": {},
     "output_type": "execute_result"
    }
   ],
   "source": [
    "df.tail()"
   ]
  },
  {
   "cell_type": "code",
   "execution_count": 51,
   "metadata": {},
   "outputs": [
    {
     "data": {
      "text/plain": [
       "(57650, 4)"
      ]
     },
     "execution_count": 51,
     "metadata": {},
     "output_type": "execute_result"
    }
   ],
   "source": [
    "df.shape"
   ]
  },
  {
   "cell_type": "code",
   "execution_count": 52,
   "metadata": {},
   "outputs": [
    {
     "name": "stdout",
     "output_type": "stream",
     "text": [
      "<class 'pandas.core.frame.DataFrame'>\n",
      "RangeIndex: 57650 entries, 0 to 57649\n",
      "Data columns (total 4 columns):\n",
      " #   Column  Non-Null Count  Dtype \n",
      "---  ------  --------------  ----- \n",
      " 0   artist  57650 non-null  object\n",
      " 1   song    57650 non-null  object\n",
      " 2   link    57650 non-null  object\n",
      " 3   text    57650 non-null  object\n",
      "dtypes: object(4)\n",
      "memory usage: 1.8+ MB\n"
     ]
    }
   ],
   "source": [
    "df.info()"
   ]
  },
  {
   "cell_type": "code",
   "execution_count": 53,
   "metadata": {},
   "outputs": [
    {
     "data": {
      "text/plain": [
       "artist    0\n",
       "song      0\n",
       "link      0\n",
       "text      0\n",
       "dtype: int64"
      ]
     },
     "execution_count": 53,
     "metadata": {},
     "output_type": "execute_result"
    }
   ],
   "source": [
    "df.isnull().sum()"
   ]
  },
  {
   "cell_type": "code",
   "execution_count": 54,
   "metadata": {},
   "outputs": [],
   "source": [
    "df = df.sample(5000).drop(['link'],axis=1).reset_index(drop=True)"
   ]
  },
  {
   "cell_type": "code",
   "execution_count": 55,
   "metadata": {},
   "outputs": [
    {
     "data": {
      "text/html": [
       "<div>\n",
       "<style scoped>\n",
       "    .dataframe tbody tr th:only-of-type {\n",
       "        vertical-align: middle;\n",
       "    }\n",
       "\n",
       "    .dataframe tbody tr th {\n",
       "        vertical-align: top;\n",
       "    }\n",
       "\n",
       "    .dataframe thead th {\n",
       "        text-align: right;\n",
       "    }\n",
       "</style>\n",
       "<table border=\"1\" class=\"dataframe\">\n",
       "  <thead>\n",
       "    <tr style=\"text-align: right;\">\n",
       "      <th></th>\n",
       "      <th>artist</th>\n",
       "      <th>song</th>\n",
       "      <th>text</th>\n",
       "    </tr>\n",
       "  </thead>\n",
       "  <tbody>\n",
       "    <tr>\n",
       "      <th>0</th>\n",
       "      <td>Westlife</td>\n",
       "      <td>Somebody Needs You</td>\n",
       "      <td>I'm only human  \\r\\nSometimes I make mistakes ...</td>\n",
       "    </tr>\n",
       "    <tr>\n",
       "      <th>1</th>\n",
       "      <td>Ice Cube</td>\n",
       "      <td>Check Yo Self</td>\n",
       "      <td>Yeah! Word is bond!  \\r\\nDas EFX in this ya kn...</td>\n",
       "    </tr>\n",
       "    <tr>\n",
       "      <th>2</th>\n",
       "      <td>Chaka Khan</td>\n",
       "      <td>Maybe Your Baby</td>\n",
       "      <td>I'm feeling down, in some kinda lonely  \\r\\nCu...</td>\n",
       "    </tr>\n",
       "    <tr>\n",
       "      <th>3</th>\n",
       "      <td>Ne-Yo</td>\n",
       "      <td>Congratulations</td>\n",
       "      <td>[Verse 1]  \\r\\nOne of my best girls went and g...</td>\n",
       "    </tr>\n",
       "    <tr>\n",
       "      <th>4</th>\n",
       "      <td>Michael Jackson</td>\n",
       "      <td>Here I Am</td>\n",
       "      <td>I can't believe that is real  \\r\\nThe way that...</td>\n",
       "    </tr>\n",
       "  </tbody>\n",
       "</table>\n",
       "</div>"
      ],
      "text/plain": [
       "            artist                song  \\\n",
       "0         Westlife  Somebody Needs You   \n",
       "1         Ice Cube       Check Yo Self   \n",
       "2       Chaka Khan     Maybe Your Baby   \n",
       "3            Ne-Yo     Congratulations   \n",
       "4  Michael Jackson           Here I Am   \n",
       "\n",
       "                                                text  \n",
       "0  I'm only human  \\r\\nSometimes I make mistakes ...  \n",
       "1  Yeah! Word is bond!  \\r\\nDas EFX in this ya kn...  \n",
       "2  I'm feeling down, in some kinda lonely  \\r\\nCu...  \n",
       "3  [Verse 1]  \\r\\nOne of my best girls went and g...  \n",
       "4  I can't believe that is real  \\r\\nThe way that...  "
      ]
     },
     "execution_count": 55,
     "metadata": {},
     "output_type": "execute_result"
    }
   ],
   "source": [
    "df.head()"
   ]
  },
  {
   "cell_type": "code",
   "execution_count": 56,
   "metadata": {},
   "outputs": [
    {
     "data": {
      "text/plain": [
       "'Yeah! Word is bond!  \\r\\nDas EFX in this ya know what I\\'m sayin\\'  \\r\\nStraight from the sewer word is bond!  \\r\\nYeah! Yea! Ah yeah! We doin\\' this with my nigga  \\r\\nWhere my nigga? Ice Cube in the motherfucker  \\r\\nWord is bond! (Yeah!)  \\r\\n  \\r\\nYou better check yo self before you wreck yo self  \\r\\n\\'cause I\\'m bad for your health I come real stealth  \\r\\nDroppin\\' bombs on ya moms fuck car alarms  \\r\\nDoin\\' foul crime, I\\'m that nigga wit\\'cha Alpine  \\r\\nSold it for a six-o, always let tricks know  \\r\\nAnd friends know, we got the indo  \\r\\nNo I\\'m not a sucker, sittin\\' in a House of Pain  \\r\\nAnd no I\\'m not the butler, I\\'ll cut ya (Uh!)  \\r\\nHeadbutt ya, you say you can\\'t touch this  \\r\\nAnd I wouldn\\'t touch ya, in fact motherfuck ya  \\r\\nHere to let you know boy, oh boy  \\r\\nI make dough but don\\'t call me DoughBoy  \\r\\nThis ain\\'t no fuckin motion picture  \\r\\nA guy or bitch-a, I\\'ll get wit\\'cha  \\r\\nAnd hit ya, takin that yack to the neck  \\r\\nSo you better run a check  \\r\\n  \\r\\nSo come on and chickity-check yo self before you wreck yo self  \\r\\nChickity-check yo self before you wreck yo self  \\r\\nYeah, come on and check yo self before you wreck yo self  \\r\\nCause shotgun bullets are bad for your health  \\r\\n  \\r\\n[Chorus]  \\r\\nMic-mic-microphone check (One, two! Check it!)  \\r\\nMic-mic-microphone check (One, two! Check it!)  \\r\\n  \\r\\nTricks want to step to Cube and then they get played  \\r\\nCause they bitch may pullin\\' out a switchblade  \\r\\nThat\\'s kinda trifle, case that\\'s a knife-o  \\r\\nAK-47, assault rifle  \\r\\nHold the fifty, I\\'m nifty, pow  \\r\\nI gotta new style, \"Watch out now!\"  \\r\\nI hate motherfuckers claimin\\' that they foldin bank  \\r\\nBut steady talkin\\' shit in the holding tank  \\r\\nFirst you want to step to me  \\r\\nNow your ass screamin\\' for the deputy  \\r\\nThey send you to Charlie-Baker-Denver row  \\r\\nNow they runnin\\' up in ya slow  \\r\\nYou\\'re gone, used to be the Don Juan (Check that shit out!)  \\r\\nNow your name is just Twan  \\r\\nSwitch it, snap it, rollin\\' your eyes and neck  \\r\\nYou better run a check  \\r\\n  \\r\\nSo chickity-check yo self before you wreck yo self  \\r\\nCome on and check yo self before you wrickity-wreck yo self  \\r\\nSo chickity-check yo self before you wreck yo self  \\r\\nCause big dicks up yo ass is bad for yo health  \\r\\n  \\r\\n[Chorus]  \\r\\n  \\r\\nIf you\\'re foul, you better run a make on that license plate  \\r\\nYou could of had a V8  \\r\\nInstead of a tre-eight slug to the cranium (Pow!)  \\r\\nI got six and I\\'m aimin em  \\r\\nWill I shoot or keep you guessin\\'  \\r\\nCause fuck you and that shit ya stressin\\'  \\r\\nBitch, get off the wood, you\\'re no good  \\r\\nThere goes the neighborhood hooker (Slut!)  \\r\\nGo ahead and keep your drawers  \\r\\nGivin\\' up the claps and who needs applause  \\r\\nAt a time like this, pop the coochie and ya dead  \\r\\nThe bitch is a Miami Hurricane hit  \\r\\nSprung, niggas call her \\'Lips and Lungs\\'  \\r\\nNappy dugout, get the fuck out  \\r\\nCause women like you gets no respect  \\r\\nBitch, you better run a check  \\r\\n  \\r\\nSo chickity-check yo self before you wreck yo self  \\r\\nSo chickity-check yo self before you wreck yo self  \\r\\nCome on and check yo self before you wrickity-wreck yo self  \\r\\nCause bitches like you is bad for my health  \\r\\n  \\r\\n[Chorus]  \\r\\n  \\r\\nSo chickity-check yo self before you wreck yo self  \\r\\nSo chickity-check yo self before you wreck yo self  \\r\\nCome on and check yo self before you wrickity-wreck yo self  \\r\\nCause bitches like you is bad for my health  \\r\\n  \\r\\n[Chorus: x3]\\r\\n\\r\\n'"
      ]
     },
     "execution_count": 56,
     "metadata": {},
     "output_type": "execute_result"
    }
   ],
   "source": [
    "df['text'][1]"
   ]
  },
  {
   "cell_type": "code",
   "execution_count": 57,
   "metadata": {},
   "outputs": [],
   "source": [
    "def no_of_words(text):\n",
    "    words = text.split()\n",
    "    word_count = len(words)\n",
    "    return word_count"
   ]
  },
  {
   "cell_type": "code",
   "execution_count": 58,
   "metadata": {},
   "outputs": [],
   "source": [
    "df['word count'] = df['text'].apply(no_of_words)"
   ]
  },
  {
   "cell_type": "code",
   "execution_count": 73,
   "metadata": {},
   "outputs": [
    {
     "data": {
      "text/html": [
       "<div>\n",
       "<style scoped>\n",
       "    .dataframe tbody tr th:only-of-type {\n",
       "        vertical-align: middle;\n",
       "    }\n",
       "\n",
       "    .dataframe tbody tr th {\n",
       "        vertical-align: top;\n",
       "    }\n",
       "\n",
       "    .dataframe thead th {\n",
       "        text-align: right;\n",
       "    }\n",
       "</style>\n",
       "<table border=\"1\" class=\"dataframe\">\n",
       "  <thead>\n",
       "    <tr style=\"text-align: right;\">\n",
       "      <th></th>\n",
       "      <th>artist</th>\n",
       "      <th>song</th>\n",
       "      <th>text</th>\n",
       "      <th>word count</th>\n",
       "    </tr>\n",
       "  </thead>\n",
       "  <tbody>\n",
       "    <tr>\n",
       "      <th>0</th>\n",
       "      <td>Westlife</td>\n",
       "      <td>Somebody Needs You</td>\n",
       "      <td>im human sometimes make mistakes forgive im go...</td>\n",
       "      <td>118</td>\n",
       "    </tr>\n",
       "    <tr>\n",
       "      <th>1</th>\n",
       "      <td>Ice Cube</td>\n",
       "      <td>Check Yo Self</td>\n",
       "      <td>yeah word bond das efx ya know im sayin straig...</td>\n",
       "      <td>587</td>\n",
       "    </tr>\n",
       "    <tr>\n",
       "      <th>2</th>\n",
       "      <td>Chaka Khan</td>\n",
       "      <td>Maybe Your Baby</td>\n",
       "      <td>im feeling kinda lonely cuz baby done left hea...</td>\n",
       "      <td>155</td>\n",
       "    </tr>\n",
       "    <tr>\n",
       "      <th>3</th>\n",
       "      <td>Ne-Yo</td>\n",
       "      <td>Congratulations</td>\n",
       "      <td>verse 1 one best girls went got boo sudden dam...</td>\n",
       "      <td>325</td>\n",
       "    </tr>\n",
       "    <tr>\n",
       "      <th>4</th>\n",
       "      <td>Michael Jackson</td>\n",
       "      <td>Here I Am</td>\n",
       "      <td>cant believe real way made feel burning deep i...</td>\n",
       "      <td>112</td>\n",
       "    </tr>\n",
       "  </tbody>\n",
       "</table>\n",
       "</div>"
      ],
      "text/plain": [
       "            artist                song  \\\n",
       "0         Westlife  Somebody Needs You   \n",
       "1         Ice Cube       Check Yo Self   \n",
       "2       Chaka Khan     Maybe Your Baby   \n",
       "3            Ne-Yo     Congratulations   \n",
       "4  Michael Jackson           Here I Am   \n",
       "\n",
       "                                                text  word count  \n",
       "0  im human sometimes make mistakes forgive im go...         118  \n",
       "1  yeah word bond das efx ya know im sayin straig...         587  \n",
       "2  im feeling kinda lonely cuz baby done left hea...         155  \n",
       "3  verse 1 one best girls went got boo sudden dam...         325  \n",
       "4  cant believe real way made feel burning deep i...         112  "
      ]
     },
     "execution_count": 73,
     "metadata": {},
     "output_type": "execute_result"
    }
   ],
   "source": [
    "df.head()"
   ]
  },
  {
   "cell_type": "markdown",
   "metadata": {},
   "source": [
    "## Text Cleaning / Preprocessing"
   ]
  },
  {
   "cell_type": "code",
   "execution_count": 60,
   "metadata": {},
   "outputs": [],
   "source": [
    "def data_processing(text):\n",
    "    text = text.lower()\n",
    "    text = re.sub('\\r\\n','',text)\n",
    "    text = re.sub(r'\\@\\w+|\\#','',text)\n",
    "    text = re.sub(r'[^\\w\\s]','',text)\n",
    "    text_tokens = word_tokenize(text)\n",
    "    filtered_text = [w for w in text_tokens if not w in stop_words]\n",
    "    return \" \".join(filtered_text)"
   ]
  },
  {
   "cell_type": "code",
   "execution_count": 61,
   "metadata": {},
   "outputs": [],
   "source": [
    "df.text = df['text'].apply(data_processing)"
   ]
  },
  {
   "cell_type": "code",
   "execution_count": 62,
   "metadata": {},
   "outputs": [
    {
     "data": {
      "text/html": [
       "<div>\n",
       "<style scoped>\n",
       "    .dataframe tbody tr th:only-of-type {\n",
       "        vertical-align: middle;\n",
       "    }\n",
       "\n",
       "    .dataframe tbody tr th {\n",
       "        vertical-align: top;\n",
       "    }\n",
       "\n",
       "    .dataframe thead th {\n",
       "        text-align: right;\n",
       "    }\n",
       "</style>\n",
       "<table border=\"1\" class=\"dataframe\">\n",
       "  <thead>\n",
       "    <tr style=\"text-align: right;\">\n",
       "      <th></th>\n",
       "      <th>artist</th>\n",
       "      <th>song</th>\n",
       "      <th>text</th>\n",
       "      <th>word count</th>\n",
       "    </tr>\n",
       "  </thead>\n",
       "  <tbody>\n",
       "    <tr>\n",
       "      <th>0</th>\n",
       "      <td>Westlife</td>\n",
       "      <td>Somebody Needs You</td>\n",
       "      <td>im human sometimes make mistakes forgive im go...</td>\n",
       "      <td>118</td>\n",
       "    </tr>\n",
       "    <tr>\n",
       "      <th>1</th>\n",
       "      <td>Ice Cube</td>\n",
       "      <td>Check Yo Self</td>\n",
       "      <td>yeah word bond das efx ya know im sayin straig...</td>\n",
       "      <td>587</td>\n",
       "    </tr>\n",
       "    <tr>\n",
       "      <th>2</th>\n",
       "      <td>Chaka Khan</td>\n",
       "      <td>Maybe Your Baby</td>\n",
       "      <td>im feeling kinda lonely cuz baby done left hea...</td>\n",
       "      <td>155</td>\n",
       "    </tr>\n",
       "    <tr>\n",
       "      <th>3</th>\n",
       "      <td>Ne-Yo</td>\n",
       "      <td>Congratulations</td>\n",
       "      <td>verse 1 one best girls went got boo sudden dam...</td>\n",
       "      <td>325</td>\n",
       "    </tr>\n",
       "    <tr>\n",
       "      <th>4</th>\n",
       "      <td>Michael Jackson</td>\n",
       "      <td>Here I Am</td>\n",
       "      <td>cant believe real way made feel burning deep i...</td>\n",
       "      <td>112</td>\n",
       "    </tr>\n",
       "  </tbody>\n",
       "</table>\n",
       "</div>"
      ],
      "text/plain": [
       "            artist                song  \\\n",
       "0         Westlife  Somebody Needs You   \n",
       "1         Ice Cube       Check Yo Self   \n",
       "2       Chaka Khan     Maybe Your Baby   \n",
       "3            Ne-Yo     Congratulations   \n",
       "4  Michael Jackson           Here I Am   \n",
       "\n",
       "                                                text  word count  \n",
       "0  im human sometimes make mistakes forgive im go...         118  \n",
       "1  yeah word bond das efx ya know im sayin straig...         587  \n",
       "2  im feeling kinda lonely cuz baby done left hea...         155  \n",
       "3  verse 1 one best girls went got boo sudden dam...         325  \n",
       "4  cant believe real way made feel burning deep i...         112  "
      ]
     },
     "execution_count": 62,
     "metadata": {},
     "output_type": "execute_result"
    }
   ],
   "source": [
    "df.head()"
   ]
  },
  {
   "cell_type": "code",
   "execution_count": 63,
   "metadata": {},
   "outputs": [],
   "source": [
    "stemmer = PorterStemmer()\n",
    "def stemming(data):\n",
    "    text = [stemmer.stem(word) for word in data]\n",
    "    return data"
   ]
  },
  {
   "cell_type": "code",
   "execution_count": 64,
   "metadata": {},
   "outputs": [],
   "source": [
    "df.text = df['text'].apply(stemming)"
   ]
  },
  {
   "cell_type": "code",
   "execution_count": 65,
   "metadata": {},
   "outputs": [],
   "source": [
    "vect = TfidfVectorizer(analyzer='word')"
   ]
  },
  {
   "cell_type": "code",
   "execution_count": 66,
   "metadata": {},
   "outputs": [],
   "source": [
    "matrix = vect.fit_transform(df['text'])"
   ]
  },
  {
   "cell_type": "code",
   "execution_count": 67,
   "metadata": {},
   "outputs": [],
   "source": [
    "similar = cosine_similarity(matrix)"
   ]
  },
  {
   "cell_type": "code",
   "execution_count": 83,
   "metadata": {},
   "outputs": [
    {
     "data": {
      "text/html": [
       "<div>\n",
       "<style scoped>\n",
       "    .dataframe tbody tr th:only-of-type {\n",
       "        vertical-align: middle;\n",
       "    }\n",
       "\n",
       "    .dataframe tbody tr th {\n",
       "        vertical-align: top;\n",
       "    }\n",
       "\n",
       "    .dataframe thead th {\n",
       "        text-align: right;\n",
       "    }\n",
       "</style>\n",
       "<table border=\"1\" class=\"dataframe\">\n",
       "  <thead>\n",
       "    <tr style=\"text-align: right;\">\n",
       "      <th></th>\n",
       "      <th>artist</th>\n",
       "      <th>song</th>\n",
       "      <th>text</th>\n",
       "      <th>word count</th>\n",
       "    </tr>\n",
       "  </thead>\n",
       "  <tbody>\n",
       "    <tr>\n",
       "      <th>553</th>\n",
       "      <td>Green Day</td>\n",
       "      <td>Boulevard Of Broken Songs</td>\n",
       "      <td>walk lonely road one ever known dont know goes...</td>\n",
       "      <td>486</td>\n",
       "    </tr>\n",
       "    <tr>\n",
       "      <th>962</th>\n",
       "      <td>Green Day</td>\n",
       "      <td>All The Time</td>\n",
       "      <td>time every time need whats time id say time ri...</td>\n",
       "      <td>162</td>\n",
       "    </tr>\n",
       "    <tr>\n",
       "      <th>1755</th>\n",
       "      <td>Green Day</td>\n",
       "      <td>The Grouch</td>\n",
       "      <td>young boy big plans im another shitty old man ...</td>\n",
       "      <td>156</td>\n",
       "    </tr>\n",
       "    <tr>\n",
       "      <th>2014</th>\n",
       "      <td>Green Day</td>\n",
       "      <td>Only Of You</td>\n",
       "      <td>wish could tell words would come wrong oh knew...</td>\n",
       "      <td>134</td>\n",
       "    </tr>\n",
       "    <tr>\n",
       "      <th>2259</th>\n",
       "      <td>Green Day</td>\n",
       "      <td>Stuart And The Ave</td>\n",
       "      <td>standing corner stuart avenue ripping transfer...</td>\n",
       "      <td>137</td>\n",
       "    </tr>\n",
       "    <tr>\n",
       "      <th>2558</th>\n",
       "      <td>Green Day</td>\n",
       "      <td>Brain Stew</td>\n",
       "      <td>im trouble trying sleep im counting sheep runn...</td>\n",
       "      <td>135</td>\n",
       "    </tr>\n",
       "    <tr>\n",
       "      <th>2662</th>\n",
       "      <td>Green Day</td>\n",
       "      <td>Jackass</td>\n",
       "      <td>know hate loving must like suicide dont mind d...</td>\n",
       "      <td>177</td>\n",
       "    </tr>\n",
       "    <tr>\n",
       "      <th>3029</th>\n",
       "      <td>Green Day</td>\n",
       "      <td>The Eye Of The Tiger</td>\n",
       "      <td>originally survivor rising back street time to...</td>\n",
       "      <td>253</td>\n",
       "    </tr>\n",
       "    <tr>\n",
       "      <th>3206</th>\n",
       "      <td>Green Day</td>\n",
       "      <td>Somewhere Now</td>\n",
       "      <td>verse 1 im running late somewhere dont want fu...</td>\n",
       "      <td>202</td>\n",
       "    </tr>\n",
       "    <tr>\n",
       "      <th>3505</th>\n",
       "      <td>Green Day</td>\n",
       "      <td>Prosthetic Head</td>\n",
       "      <td>see front line sight sore eyes youre suicide m...</td>\n",
       "      <td>116</td>\n",
       "    </tr>\n",
       "    <tr>\n",
       "      <th>3527</th>\n",
       "      <td>Green Day</td>\n",
       "      <td>Road To Acceptance</td>\n",
       "      <td>always waste time wondering next man thinks il...</td>\n",
       "      <td>228</td>\n",
       "    </tr>\n",
       "    <tr>\n",
       "      <th>3916</th>\n",
       "      <td>Green Day</td>\n",
       "      <td>Disappearing Boy</td>\n",
       "      <td>see dont dont ask im cause im million miles aw...</td>\n",
       "      <td>163</td>\n",
       "    </tr>\n",
       "    <tr>\n",
       "      <th>4116</th>\n",
       "      <td>Green Day</td>\n",
       "      <td>409 In Your Coffeemaker</td>\n",
       "      <td>sit state daydream words flying head even time...</td>\n",
       "      <td>163</td>\n",
       "    </tr>\n",
       "    <tr>\n",
       "      <th>4426</th>\n",
       "      <td>Green Day</td>\n",
       "      <td>Bang Bang</td>\n",
       "      <td>intro definitely first video surface execution...</td>\n",
       "      <td>311</td>\n",
       "    </tr>\n",
       "    <tr>\n",
       "      <th>4478</th>\n",
       "      <td>Green Day</td>\n",
       "      <td>Teenage Lobotomy</td>\n",
       "      <td>originally ramones lobotomy lobotomy lobotomy ...</td>\n",
       "      <td>117</td>\n",
       "    </tr>\n",
       "    <tr>\n",
       "      <th>4559</th>\n",
       "      <td>Green Day</td>\n",
       "      <td>Poprocks And Coke</td>\n",
       "      <td>whereer go know ill go far know ill ill go any...</td>\n",
       "      <td>188</td>\n",
       "    </tr>\n",
       "    <tr>\n",
       "      <th>4684</th>\n",
       "      <td>Green Day</td>\n",
       "      <td>Longview</td>\n",
       "      <td>sit around watch tube nothings change channels...</td>\n",
       "      <td>241</td>\n",
       "    </tr>\n",
       "    <tr>\n",
       "      <th>4909</th>\n",
       "      <td>Green Day</td>\n",
       "      <td>Good Riddance</td>\n",
       "      <td>another turning point fork stuck road time gra...</td>\n",
       "      <td>151</td>\n",
       "    </tr>\n",
       "    <tr>\n",
       "      <th>4994</th>\n",
       "      <td>Green Day</td>\n",
       "      <td>Blitzkrieg Bop</td>\n",
       "      <td>hey ho lets go hey ho lets go hey ho lets go h...</td>\n",
       "      <td>155</td>\n",
       "    </tr>\n",
       "  </tbody>\n",
       "</table>\n",
       "</div>"
      ],
      "text/plain": [
       "         artist                       song  \\\n",
       "553   Green Day  Boulevard Of Broken Songs   \n",
       "962   Green Day               All The Time   \n",
       "1755  Green Day                 The Grouch   \n",
       "2014  Green Day                Only Of You   \n",
       "2259  Green Day         Stuart And The Ave   \n",
       "2558  Green Day                 Brain Stew   \n",
       "2662  Green Day                    Jackass   \n",
       "3029  Green Day       The Eye Of The Tiger   \n",
       "3206  Green Day              Somewhere Now   \n",
       "3505  Green Day            Prosthetic Head   \n",
       "3527  Green Day         Road To Acceptance   \n",
       "3916  Green Day           Disappearing Boy   \n",
       "4116  Green Day    409 In Your Coffeemaker   \n",
       "4426  Green Day                  Bang Bang   \n",
       "4478  Green Day           Teenage Lobotomy   \n",
       "4559  Green Day          Poprocks And Coke   \n",
       "4684  Green Day                   Longview   \n",
       "4909  Green Day              Good Riddance   \n",
       "4994  Green Day             Blitzkrieg Bop   \n",
       "\n",
       "                                                   text  word count  \n",
       "553   walk lonely road one ever known dont know goes...         486  \n",
       "962   time every time need whats time id say time ri...         162  \n",
       "1755  young boy big plans im another shitty old man ...         156  \n",
       "2014  wish could tell words would come wrong oh knew...         134  \n",
       "2259  standing corner stuart avenue ripping transfer...         137  \n",
       "2558  im trouble trying sleep im counting sheep runn...         135  \n",
       "2662  know hate loving must like suicide dont mind d...         177  \n",
       "3029  originally survivor rising back street time to...         253  \n",
       "3206  verse 1 im running late somewhere dont want fu...         202  \n",
       "3505  see front line sight sore eyes youre suicide m...         116  \n",
       "3527  always waste time wondering next man thinks il...         228  \n",
       "3916  see dont dont ask im cause im million miles aw...         163  \n",
       "4116  sit state daydream words flying head even time...         163  \n",
       "4426  intro definitely first video surface execution...         311  \n",
       "4478  originally ramones lobotomy lobotomy lobotomy ...         117  \n",
       "4559  whereer go know ill go far know ill ill go any...         188  \n",
       "4684  sit around watch tube nothings change channels...         241  \n",
       "4909  another turning point fork stuck road time gra...         151  \n",
       "4994  hey ho lets go hey ho lets go hey ho lets go h...         155  "
      ]
     },
     "execution_count": 83,
     "metadata": {},
     "output_type": "execute_result"
    }
   ],
   "source": [
    "df[df['artist']=='Green Day']"
   ]
  },
  {
   "cell_type": "markdown",
   "metadata": {},
   "source": [
    "## Recommender Function"
   ]
  },
  {
   "cell_type": "code",
   "execution_count": 85,
   "metadata": {},
   "outputs": [],
   "source": [
    "def recommender(song_name):\n",
    "    idx = df[df['song'] == song_name].index[0]\n",
    "    distance = sorted(list(enumerate(similar[idx])), reverse=True, key= lambda x:x[1])\n",
    "    song = []\n",
    "    for s_id in distance[1:10]:\n",
    "        song.append(df.iloc[s_id[0]].song)\n",
    "    return song"
   ]
  },
  {
   "cell_type": "code",
   "execution_count": 86,
   "metadata": {},
   "outputs": [
    {
     "data": {
      "text/plain": [
       "['Walk On Down',\n",
       " 'Alien',\n",
       " 'Walk On By',\n",
       " 'Thank You For Sending Me An Angel',\n",
       " 'Never Alone',\n",
       " 'Walk The Dog',\n",
       " 'If I Walk Away',\n",
       " 'Walk Through This World With Me',\n",
       " \"Don't Walk Away\"]"
      ]
     },
     "execution_count": 86,
     "metadata": {},
     "output_type": "execute_result"
    }
   ],
   "source": [
    "recommender('Boulevard Of Broken Songs')"
   ]
  },
  {
   "cell_type": "code",
   "execution_count": 88,
   "metadata": {},
   "outputs": [],
   "source": [
    "pickle.dump(similar, open(\"similarity\",\"wb\"))"
   ]
  },
  {
   "cell_type": "code",
   "execution_count": 89,
   "metadata": {},
   "outputs": [],
   "source": [
    "pickle.dump(df, open(\"df\",\"wb\"))"
   ]
  },
  {
   "cell_type": "code",
   "execution_count": null,
   "metadata": {},
   "outputs": [],
   "source": []
  }
 ],
 "metadata": {
  "kernelspec": {
   "display_name": "Python 3",
   "language": "python",
   "name": "python3"
  },
  "language_info": {
   "codemirror_mode": {
    "name": "ipython",
    "version": 3
   },
   "file_extension": ".py",
   "mimetype": "text/x-python",
   "name": "python",
   "nbconvert_exporter": "python",
   "pygments_lexer": "ipython3",
   "version": "3.9.7"
  }
 },
 "nbformat": 4,
 "nbformat_minor": 2
}
